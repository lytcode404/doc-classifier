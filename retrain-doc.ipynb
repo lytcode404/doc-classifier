{
 "cells": [
  {
   "cell_type": "code",
   "execution_count": 87,
   "metadata": {},
   "outputs": [
    {
     "name": "stderr",
     "output_type": "stream",
     "text": [
      "[nltk_data] Downloading package punkt to\n",
      "[nltk_data]     C:\\Users\\Dilshad\\AppData\\Roaming\\nltk_data...\n",
      "[nltk_data]   Package punkt is already up-to-date!\n",
      "[nltk_data] Downloading package stopwords to\n",
      "[nltk_data]     C:\\Users\\Dilshad\\AppData\\Roaming\\nltk_data...\n",
      "[nltk_data]   Package stopwords is already up-to-date!\n"
     ]
    }
   ],
   "source": [
    "import pickle\n",
    "from nltk.stem.porter import PorterStemmer\n",
    "import string\n",
    "from nltk.corpus import stopwords\n",
    "import pandas as pd\n",
    "import nltk\n",
    "nltk.download('punkt')\n",
    "nltk.download('stopwords')\n",
    "# stopwords.words('english')\n",
    "# string.punctuation\n",
    "ps = PorterStemmer()\n",
    "# ps.stem('worries')"
   ]
  },
  {
   "cell_type": "code",
   "execution_count": 88,
   "metadata": {},
   "outputs": [],
   "source": [
    "filename = \"Govt Documents\""
   ]
  },
  {
   "cell_type": "code",
   "execution_count": 89,
   "metadata": {},
   "outputs": [],
   "source": [
    "# Load the model from the file\n",
    "with open('predict-doc.pkl', 'rb') as f:\n",
    "    loaded_model = pickle.load(f)"
   ]
  },
  {
   "cell_type": "code",
   "execution_count": 90,
   "metadata": {},
   "outputs": [],
   "source": [
    "def transform_text(text):\n",
    "    text = text.lower()\n",
    "    text = nltk.word_tokenize(text)\n",
    "\n",
    "    y = []\n",
    "    for i in text:\n",
    "        if i.isalnum():\n",
    "            y.append(i)\n",
    "\n",
    "    text = y[:]\n",
    "    y.clear()\n",
    "\n",
    "    for i in text:\n",
    "        if i not in stopwords.words('english') and i not in string.punctuation:\n",
    "            y.append(i)\n",
    "\n",
    "    text = y[:]\n",
    "    y.clear()\n",
    "\n",
    "    for i in text:\n",
    "        y.append(ps.stem(i))\n",
    "\n",
    "    return \" \".join(y)"
   ]
  },
  {
   "cell_type": "code",
   "execution_count": 91,
   "metadata": {},
   "outputs": [],
   "source": [
    "def preprocesse_df(df):\n",
    "    df = df.dropna()\n",
    "    df.duplicated().sum()\n",
    "    df = df.drop_duplicates(keep='first')\n",
    "    df['transformed_content'] = df['content'].apply(transform_text)\n",
    "    processed_df = df[df['content'].str.len() >= 1000]\n",
    "\n",
    "    return processed_df"
   ]
  },
  {
   "cell_type": "code",
   "execution_count": 92,
   "metadata": {},
   "outputs": [
    {
     "data": {
      "text/html": [
       "<div>\n",
       "<style scoped>\n",
       "    .dataframe tbody tr th:only-of-type {\n",
       "        vertical-align: middle;\n",
       "    }\n",
       "\n",
       "    .dataframe tbody tr th {\n",
       "        vertical-align: top;\n",
       "    }\n",
       "\n",
       "    .dataframe thead th {\n",
       "        text-align: right;\n",
       "    }\n",
       "</style>\n",
       "<table border=\"1\" class=\"dataframe\">\n",
       "  <thead>\n",
       "    <tr style=\"text-align: right;\">\n",
       "      <th></th>\n",
       "      <th>content</th>\n",
       "      <th>category</th>\n",
       "    </tr>\n",
       "  </thead>\n",
       "  <tbody>\n",
       "    <tr>\n",
       "      <th>0</th>\n",
       "      <td>List of Documents required as ID and Address p...</td>\n",
       "      <td>Government Documents</td>\n",
       "    </tr>\n",
       "    <tr>\n",
       "      <th>1</th>\n",
       "      <td>List of Documents required as ID and Address p...</td>\n",
       "      <td>Government Documents</td>\n",
       "    </tr>\n",
       "    <tr>\n",
       "      <th>2</th>\n",
       "      <td>Documents List of documents accepted\\r\\nProof ...</td>\n",
       "      <td>Government Documents</td>\n",
       "    </tr>\n",
       "    <tr>\n",
       "      <th>3</th>\n",
       "      <td>Documents List of documents accepted\\r\\nProof ...</td>\n",
       "      <td>Government Documents</td>\n",
       "    </tr>\n",
       "    <tr>\n",
       "      <th>4</th>\n",
       "      <td>NaN</td>\n",
       "      <td>Government Documents</td>\n",
       "    </tr>\n",
       "    <tr>\n",
       "      <th>...</th>\n",
       "      <td>...</td>\n",
       "      <td>...</td>\n",
       "    </tr>\n",
       "    <tr>\n",
       "      <th>74</th>\n",
       "      <td>NaN</td>\n",
       "      <td>Government Documents</td>\n",
       "    </tr>\n",
       "    <tr>\n",
       "      <th>75</th>\n",
       "      <td>NaN</td>\n",
       "      <td>Government Documents</td>\n",
       "    </tr>\n",
       "    <tr>\n",
       "      <th>76</th>\n",
       "      <td>NaN</td>\n",
       "      <td>Government Documents</td>\n",
       "    </tr>\n",
       "    <tr>\n",
       "      <th>77</th>\n",
       "      <td>NaN</td>\n",
       "      <td>Government Documents</td>\n",
       "    </tr>\n",
       "    <tr>\n",
       "      <th>78</th>\n",
       "      <td>NaN</td>\n",
       "      <td>Government Documents</td>\n",
       "    </tr>\n",
       "  </tbody>\n",
       "</table>\n",
       "<p>79 rows × 2 columns</p>\n",
       "</div>"
      ],
      "text/plain": [
       "                                              content              category\n",
       "0   List of Documents required as ID and Address p...  Government Documents\n",
       "1   List of Documents required as ID and Address p...  Government Documents\n",
       "2   Documents List of documents accepted\\r\\nProof ...  Government Documents\n",
       "3   Documents List of documents accepted\\r\\nProof ...  Government Documents\n",
       "4                                                 NaN  Government Documents\n",
       "..                                                ...                   ...\n",
       "74                                                NaN  Government Documents\n",
       "75                                                NaN  Government Documents\n",
       "76                                                NaN  Government Documents\n",
       "77                                                NaN  Government Documents\n",
       "78                                                NaN  Government Documents\n",
       "\n",
       "[79 rows x 2 columns]"
      ]
     },
     "execution_count": 92,
     "metadata": {},
     "output_type": "execute_result"
    }
   ],
   "source": [
    "df = pd.read_csv('./db/train/'+filename+'.csv')\n",
    "df"
   ]
  },
  {
   "cell_type": "code",
   "execution_count": 93,
   "metadata": {},
   "outputs": [
    {
     "data": {
      "text/html": [
       "<div>\n",
       "<style scoped>\n",
       "    .dataframe tbody tr th:only-of-type {\n",
       "        vertical-align: middle;\n",
       "    }\n",
       "\n",
       "    .dataframe tbody tr th {\n",
       "        vertical-align: top;\n",
       "    }\n",
       "\n",
       "    .dataframe thead th {\n",
       "        text-align: right;\n",
       "    }\n",
       "</style>\n",
       "<table border=\"1\" class=\"dataframe\">\n",
       "  <thead>\n",
       "    <tr style=\"text-align: right;\">\n",
       "      <th></th>\n",
       "      <th>content</th>\n",
       "      <th>category</th>\n",
       "    </tr>\n",
       "  </thead>\n",
       "  <tbody>\n",
       "    <tr>\n",
       "      <th>0</th>\n",
       "      <td>List of Documents required as ID and Address p...</td>\n",
       "      <td>Business Documents</td>\n",
       "    </tr>\n",
       "    <tr>\n",
       "      <th>1</th>\n",
       "      <td>List of Documents required as ID and Address p...</td>\n",
       "      <td>Business Documents</td>\n",
       "    </tr>\n",
       "    <tr>\n",
       "      <th>2</th>\n",
       "      <td>Documents List of documents accepted\\r\\nProof ...</td>\n",
       "      <td>Business Documents</td>\n",
       "    </tr>\n",
       "    <tr>\n",
       "      <th>3</th>\n",
       "      <td>Documents List of documents accepted\\r\\nProof ...</td>\n",
       "      <td>Business Documents</td>\n",
       "    </tr>\n",
       "    <tr>\n",
       "      <th>4</th>\n",
       "      <td>NaN</td>\n",
       "      <td>Business Documents</td>\n",
       "    </tr>\n",
       "    <tr>\n",
       "      <th>...</th>\n",
       "      <td>...</td>\n",
       "      <td>...</td>\n",
       "    </tr>\n",
       "    <tr>\n",
       "      <th>74</th>\n",
       "      <td>NaN</td>\n",
       "      <td>Business Documents</td>\n",
       "    </tr>\n",
       "    <tr>\n",
       "      <th>75</th>\n",
       "      <td>NaN</td>\n",
       "      <td>Business Documents</td>\n",
       "    </tr>\n",
       "    <tr>\n",
       "      <th>76</th>\n",
       "      <td>NaN</td>\n",
       "      <td>Business Documents</td>\n",
       "    </tr>\n",
       "    <tr>\n",
       "      <th>77</th>\n",
       "      <td>NaN</td>\n",
       "      <td>Business Documents</td>\n",
       "    </tr>\n",
       "    <tr>\n",
       "      <th>78</th>\n",
       "      <td>NaN</td>\n",
       "      <td>Business Documents</td>\n",
       "    </tr>\n",
       "  </tbody>\n",
       "</table>\n",
       "<p>79 rows × 2 columns</p>\n",
       "</div>"
      ],
      "text/plain": [
       "                                              content            category\n",
       "0   List of Documents required as ID and Address p...  Business Documents\n",
       "1   List of Documents required as ID and Address p...  Business Documents\n",
       "2   Documents List of documents accepted\\r\\nProof ...  Business Documents\n",
       "3   Documents List of documents accepted\\r\\nProof ...  Business Documents\n",
       "4                                                 NaN  Business Documents\n",
       "..                                                ...                 ...\n",
       "74                                                NaN  Business Documents\n",
       "75                                                NaN  Business Documents\n",
       "76                                                NaN  Business Documents\n",
       "77                                                NaN  Business Documents\n",
       "78                                                NaN  Business Documents\n",
       "\n",
       "[79 rows x 2 columns]"
      ]
     },
     "execution_count": 93,
     "metadata": {},
     "output_type": "execute_result"
    }
   ],
   "source": [
    "# only run this if it has empty cols:\n",
    "df.loc[:, 'category'] = 'Business Documents'\n",
    "df\n",
    "# del df['Unnamed: 2']\n",
    "\n",
    "# del df['Unnamed: 3']\n",
    "\n",
    "# del df['Legal Document']\n",
    "\n",
    "\n",
    "# df.rename(columns={'Content': 'content',\n",
    "\n",
    "#           'Category': 'category'}, inplace=True)"
   ]
  },
  {
   "cell_type": "code",
   "execution_count": 94,
   "metadata": {},
   "outputs": [],
   "source": [
    "new_df = preprocesse_df(df)\n",
    "# new_df"
   ]
  },
  {
   "cell_type": "code",
   "execution_count": 95,
   "metadata": {},
   "outputs": [
    {
     "data": {
      "text/html": [
       "<div>\n",
       "<style scoped>\n",
       "    .dataframe tbody tr th:only-of-type {\n",
       "        vertical-align: middle;\n",
       "    }\n",
       "\n",
       "    .dataframe tbody tr th {\n",
       "        vertical-align: top;\n",
       "    }\n",
       "\n",
       "    .dataframe thead th {\n",
       "        text-align: right;\n",
       "    }\n",
       "</style>\n",
       "<table border=\"1\" class=\"dataframe\">\n",
       "  <thead>\n",
       "    <tr style=\"text-align: right;\">\n",
       "      <th></th>\n",
       "      <th>transformed_content</th>\n",
       "      <th>category</th>\n",
       "    </tr>\n",
       "  </thead>\n",
       "  <tbody>\n",
       "    <tr>\n",
       "      <th>0</th>\n",
       "      <td>list document requir id address proof proof id...</td>\n",
       "      <td>Business Documents</td>\n",
       "    </tr>\n",
       "    <tr>\n",
       "      <th>1</th>\n",
       "      <td>list document requir id address proof proof id...</td>\n",
       "      <td>Business Documents</td>\n",
       "    </tr>\n",
       "    <tr>\n",
       "      <th>2</th>\n",
       "      <td>document list document accept proof ident one ...</td>\n",
       "      <td>Business Documents</td>\n",
       "    </tr>\n",
       "  </tbody>\n",
       "</table>\n",
       "</div>"
      ],
      "text/plain": [
       "                                 transformed_content            category\n",
       "0  list document requir id address proof proof id...  Business Documents\n",
       "1  list document requir id address proof proof id...  Business Documents\n",
       "2  document list document accept proof ident one ...  Business Documents"
      ]
     },
     "execution_count": 95,
     "metadata": {},
     "output_type": "execute_result"
    }
   ],
   "source": [
    "transformed_df = new_df[['transformed_content', 'category']]\n",
    "transformed_df"
   ]
  },
  {
   "cell_type": "code",
   "execution_count": 96,
   "metadata": {},
   "outputs": [],
   "source": [
    "from sklearn.model_selection import train_test_split\n",
    "from creme import metrics\n",
    "import creme\n",
    "from creme import naive_bayes\n",
    "from creme import feature_extraction\n",
    "from creme import compose\n",
    "import math"
   ]
  },
  {
   "cell_type": "code",
   "execution_count": 97,
   "metadata": {},
   "outputs": [],
   "source": [
    "message_train, message_test = train_test_split(transformed_df)\n",
    "messages_train = message_train.to_records(index=False)\n",
    "messages_test = message_test.to_records(index=False)"
   ]
  },
  {
   "cell_type": "code",
   "execution_count": 98,
   "metadata": {},
   "outputs": [],
   "source": [
    "model = loaded_model"
   ]
  },
  {
   "cell_type": "code",
   "execution_count": 99,
   "metadata": {},
   "outputs": [
    {
     "name": "stdout",
     "output_type": "stream",
     "text": [
      "Accuracy: 100.00%\n",
      "Accuracy: 100.00%\n"
     ]
    }
   ],
   "source": [
    "metric = metrics.Accuracy()\n",
    "# Training the model row by row\n",
    "for content, category in messages_train:\n",
    "    model = model.fit_one(content, category)\n",
    "    y_pred = model.predict_one(content)\n",
    "    metric = metric.update(category, y_pred)\n",
    "    print(metric)"
   ]
  },
  {
   "cell_type": "code",
   "execution_count": 100,
   "metadata": {},
   "outputs": [
    {
     "name": "stdout",
     "output_type": "stream",
     "text": [
      "Accuracy: 100.00%\n"
     ]
    }
   ],
   "source": [
    "# test Data Accuracy\n",
    "test_metric = metrics.Accuracy()\n",
    "for content, category in messages_test:\n",
    "    y_pred = model.predict_one(content)\n",
    "    test_metric = metric.update(category, y_pred)\n",
    "    print(test_metric)"
   ]
  },
  {
   "cell_type": "code",
   "execution_count": 101,
   "metadata": {},
   "outputs": [
    {
     "data": {
      "text/plain": [
       "Accuracy: 100.00%"
      ]
     },
     "execution_count": 101,
     "metadata": {},
     "output_type": "execute_result"
    }
   ],
   "source": [
    "test_metric"
   ]
  },
  {
   "cell_type": "code",
   "execution_count": 102,
   "metadata": {},
   "outputs": [],
   "source": [
    "content = '''\n",
    "\n",
    "2022 IMF Financial Statements\n",
    "IMF Annual  \n",
    "Report 2022\n",
    "FINANCIAL STATEMENTS\n",
    "IMF ANNUAL REPORT  2022    FINANCIAL STATEMENTS\n",
    "IMF ANNUAL REPORT 2022 FINANCIAL STATEMENTS\n",
    "IMF ANNUAL REPORT  2022    FINANCIAL STATEMENTS\n",
    " \n",
    " \n",
    " \n",
    " \n",
    " \n",
    " \n",
    " \n",
    " \n",
    " \n",
    " \n",
    " \n",
    " \n",
    " \n",
    " \n",
    " \n",
    "INTERNATIONAL \n",
    "MONETARY  \n",
    "FUND \n",
    " \n",
    " \n",
    " \n",
    "Financial Statements For the Financial Years Ended April 30, 2022, and 2021\n",
    "\n",
    "'''"
   ]
  },
  {
   "cell_type": "code",
   "execution_count": 103,
   "metadata": {},
   "outputs": [
    {
     "data": {
      "text/plain": [
       "'2022 imf financi statement imf annual report 2022 financi statement imf annual report 2022 financi statement imf annual report 2022 financi statement imf annual report 2022 financi statement intern monetari fund financi statement financi year end april 30 2022 2021'"
      ]
     },
     "execution_count": 103,
     "metadata": {},
     "output_type": "execute_result"
    }
   ],
   "source": [
    "content = transform_text(content)\n",
    "content"
   ]
  },
  {
   "cell_type": "code",
   "execution_count": 104,
   "metadata": {},
   "outputs": [
    {
     "name": "stdout",
     "output_type": "stream",
     "text": [
      "Financial Statements || Actual: Financial\n"
     ]
    }
   ],
   "source": [
    "print(model.predict_one(content), \"|| Actual:\", 'Financial')"
   ]
  },
  {
   "cell_type": "code",
   "execution_count": 105,
   "metadata": {},
   "outputs": [],
   "source": [
    "import pickle\n",
    "\n",
    "with open('predict-doc.pkl', 'wb') as f:\n",
    "    pickle.dump(model, f)\n"
   ]
  },
  {
   "cell_type": "code",
   "execution_count": 106,
   "metadata": {},
   "outputs": [
    {
     "name": "stdout",
     "output_type": "stream",
     "text": [
      "Financial Statements || Actual:  Financial\n"
     ]
    }
   ],
   "source": [
    "# Load the model from the file\n",
    "with open('predict-doc.pkl', 'rb') as f:\n",
    "    loaded_model = pickle.load(f)\n",
    "\n",
    "print(loaded_model.predict_one(content), \"|| Actual: \", 'Financial')"
   ]
  }
 ],
 "metadata": {
  "kernelspec": {
   "display_name": "Python 3",
   "language": "python",
   "name": "python3"
  },
  "language_info": {
   "codemirror_mode": {
    "name": "ipython",
    "version": 3
   },
   "file_extension": ".py",
   "mimetype": "text/x-python",
   "name": "python",
   "nbconvert_exporter": "python",
   "pygments_lexer": "ipython3",
   "version": "3.10.6"
  }
 },
 "nbformat": 4,
 "nbformat_minor": 2
}
