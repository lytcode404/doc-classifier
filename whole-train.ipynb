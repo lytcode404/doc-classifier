{
 "cells": [
  {
   "cell_type": "markdown",
   "metadata": {},
   "source": [
    "## Preprocess and Combine whole data"
   ]
  },
  {
   "cell_type": "code",
   "execution_count": 1,
   "metadata": {},
   "outputs": [
    {
     "name": "stdout",
     "output_type": "stream",
     "text": [
      "['Business Documents.csv' 'Creative Documents.csv'\n",
      " 'Educational Documents.csv' 'Financial Documents.csv'\n",
      " 'Govt Documents.csv' 'Legal Documents.csv' 'Medical Documents.csv'\n",
      " 'News Documents.csv' 'Scientific Doc2.csv' 'Scientific Documents.csv'\n",
      " 'Technical Documents.csv']\n"
     ]
    }
   ],
   "source": [
    "import os\n",
    "import numpy as np\n",
    "\n",
    "# Define the path to the train folder\n",
    "train_folder_path = './db/train/'\n",
    "\n",
    "# Get a list of all filenames in the train folder\n",
    "filenames = os.listdir(train_folder_path)\n",
    "\n",
    "# Filter out only the files (excluding directories)\n",
    "filenames = [filename for filename in filenames if os.path.isfile(\n",
    "    os.path.join(train_folder_path, filename))]\n",
    "\n",
    "# Convert the list of filenames to a NumPy array\n",
    "filenames_array = np.array(filenames)\n",
    "\n",
    "# Display the filenames array\n",
    "print(filenames_array)"
   ]
  },
  {
   "cell_type": "code",
   "execution_count": 7,
   "metadata": {},
   "outputs": [
    {
     "data": {
      "text/plain": [
       "['Business Documents',\n",
       " 'Creative Documents',\n",
       " 'Educational Documents',\n",
       " 'Financial Documents',\n",
       " 'Govt Documents',\n",
       " 'Legal Documents',\n",
       " 'Medical Documents',\n",
       " 'News Documents',\n",
       " 'Scientific Doc2',\n",
       " 'Scientific Documents',\n",
       " 'Technical Documents']"
      ]
     },
     "execution_count": 7,
     "metadata": {},
     "output_type": "execute_result"
    }
   ],
   "source": [
    "file_names_without_extension = [filename.split(\n",
    "    '.')[0] for filename in filenames_array]\n",
    "file_names_without_extension"
   ]
  },
  {
   "cell_type": "code",
   "execution_count": 2,
   "metadata": {},
   "outputs": [
    {
     "data": {
      "text/html": [
       "<div>\n",
       "<style scoped>\n",
       "    .dataframe tbody tr th:only-of-type {\n",
       "        vertical-align: middle;\n",
       "    }\n",
       "\n",
       "    .dataframe tbody tr th {\n",
       "        vertical-align: top;\n",
       "    }\n",
       "\n",
       "    .dataframe thead th {\n",
       "        text-align: right;\n",
       "    }\n",
       "</style>\n",
       "<table border=\"1\" class=\"dataframe\">\n",
       "  <thead>\n",
       "    <tr style=\"text-align: right;\">\n",
       "      <th></th>\n",
       "      <th>content</th>\n",
       "      <th>category</th>\n",
       "    </tr>\n",
       "  </thead>\n",
       "  <tbody>\n",
       "    <tr>\n",
       "      <th>0</th>\n",
       "      <td>Message-ID: &lt;24216240.1075855687451.JavaMail.e...</td>\n",
       "      <td>NaN</td>\n",
       "    </tr>\n",
       "    <tr>\n",
       "      <th>1</th>\n",
       "      <td>Message-ID: &lt;25140503.1075855687800.JavaMail.e...</td>\n",
       "      <td>NaN</td>\n",
       "    </tr>\n",
       "    <tr>\n",
       "      <th>2</th>\n",
       "      <td>Message-ID: &lt;19034252.1075855687825.JavaMail.e...</td>\n",
       "      <td>NaN</td>\n",
       "    </tr>\n",
       "    <tr>\n",
       "      <th>3</th>\n",
       "      <td>Message-ID: &lt;719350.1075855687850.JavaMail.eva...</td>\n",
       "      <td>NaN</td>\n",
       "    </tr>\n",
       "    <tr>\n",
       "      <th>4</th>\n",
       "      <td>Message-ID: &lt;10523086.1075855687873.JavaMail.e...</td>\n",
       "      <td>NaN</td>\n",
       "    </tr>\n",
       "    <tr>\n",
       "      <th>...</th>\n",
       "      <td>...</td>\n",
       "      <td>...</td>\n",
       "    </tr>\n",
       "    <tr>\n",
       "      <th>1011</th>\n",
       "      <td>Message-ID: &lt;15816310.1075855374294.JavaMail.e...</td>\n",
       "      <td>NaN</td>\n",
       "    </tr>\n",
       "    <tr>\n",
       "      <th>1012</th>\n",
       "      <td>Message-ID: &lt;6521706.1075855374316.JavaMail.ev...</td>\n",
       "      <td>NaN</td>\n",
       "    </tr>\n",
       "    <tr>\n",
       "      <th>1013</th>\n",
       "      <td>Message-ID: &lt;21543395.1075855374340.JavaMail.e...</td>\n",
       "      <td>NaN</td>\n",
       "    </tr>\n",
       "    <tr>\n",
       "      <th>1014</th>\n",
       "      <td>Message-ID: &lt;25363451.1075855374674.JavaMail.e...</td>\n",
       "      <td>NaN</td>\n",
       "    </tr>\n",
       "    <tr>\n",
       "      <th>1015</th>\n",
       "      <td>Subject: Inviting quotation\\nDear Sir,\\nWe are...</td>\n",
       "      <td>NaN</td>\n",
       "    </tr>\n",
       "  </tbody>\n",
       "</table>\n",
       "<p>1016 rows × 2 columns</p>\n",
       "</div>"
      ],
      "text/plain": [
       "                                                content  category\n",
       "0     Message-ID: <24216240.1075855687451.JavaMail.e...       NaN\n",
       "1     Message-ID: <25140503.1075855687800.JavaMail.e...       NaN\n",
       "2     Message-ID: <19034252.1075855687825.JavaMail.e...       NaN\n",
       "3     Message-ID: <719350.1075855687850.JavaMail.eva...       NaN\n",
       "4     Message-ID: <10523086.1075855687873.JavaMail.e...       NaN\n",
       "...                                                 ...       ...\n",
       "1011  Message-ID: <15816310.1075855374294.JavaMail.e...       NaN\n",
       "1012  Message-ID: <6521706.1075855374316.JavaMail.ev...       NaN\n",
       "1013  Message-ID: <21543395.1075855374340.JavaMail.e...       NaN\n",
       "1014  Message-ID: <25363451.1075855374674.JavaMail.e...       NaN\n",
       "1015  Subject: Inviting quotation\\nDear Sir,\\nWe are...       NaN\n",
       "\n",
       "[1016 rows x 2 columns]"
      ]
     },
     "execution_count": 2,
     "metadata": {},
     "output_type": "execute_result"
    }
   ],
   "source": [
    "import pandas as pd\n",
    "\n",
    "\n",
    "df = pd.read_csv('./db/train/'+filenames_array[0])\n",
    "df"
   ]
  },
  {
   "cell_type": "code",
   "execution_count": 3,
   "metadata": {},
   "outputs": [
    {
     "name": "stderr",
     "output_type": "stream",
     "text": [
      "[nltk_data] Downloading package punkt to\n",
      "[nltk_data]     C:\\Users\\Dilshad\\AppData\\Roaming\\nltk_data...\n",
      "[nltk_data]   Package punkt is already up-to-date!\n",
      "[nltk_data] Downloading package stopwords to\n",
      "[nltk_data]     C:\\Users\\Dilshad\\AppData\\Roaming\\nltk_data...\n",
      "[nltk_data]   Package stopwords is already up-to-date!\n"
     ]
    }
   ],
   "source": [
    "from sklearn.model_selection import train_test_split\n",
    "from creme import metrics\n",
    "import creme\n",
    "from creme import naive_bayes\n",
    "from creme import feature_extraction\n",
    "from creme import compose\n",
    "import math\n",
    "import pickle\n",
    "from nltk.stem.porter import PorterStemmer\n",
    "import string\n",
    "from nltk.corpus import stopwords\n",
    "import pandas as pd\n",
    "import nltk\n",
    "nltk.download('punkt')\n",
    "nltk.download('stopwords')\n",
    "# stopwords.words('english')\n",
    "# string.punctuation\n",
    "ps = PorterStemmer()\n",
    "# ps.stem('worries')"
   ]
  },
  {
   "cell_type": "code",
   "execution_count": 4,
   "metadata": {},
   "outputs": [],
   "source": [
    "def transform_text(text):\n",
    "    text = text.lower()\n",
    "    text = nltk.word_tokenize(text)\n",
    "\n",
    "    y = []\n",
    "    for i in text:\n",
    "        if i.isalnum():\n",
    "            y.append(i)\n",
    "\n",
    "    text = y[:]\n",
    "    y.clear()\n",
    "\n",
    "    for i in text:\n",
    "        if i not in stopwords.words('english') and i not in string.punctuation:\n",
    "            y.append(i)\n",
    "\n",
    "    text = y[:]\n",
    "    y.clear()\n",
    "\n",
    "    for i in text:\n",
    "        y.append(ps.stem(i))\n",
    "\n",
    "    return \" \".join(y)"
   ]
  },
  {
   "cell_type": "code",
   "execution_count": 33,
   "metadata": {},
   "outputs": [],
   "source": [
    "def preprocesse_df(df):\n",
    "    df = df.dropna()\n",
    "    df.duplicated().sum()\n",
    "    df = df.drop_duplicates(keep='first')\n",
    "    df['transformed_content'] = df['content'].apply(transform_text)\n",
    "    # Remove duplicate rows\n",
    "    \n",
    "    processed_df = df[df['content'].str.len() >= 1000]\n",
    "\n",
    "    processed_df= processed_df[['transformed_content', 'category']]\n",
    "\n",
    "    processed_df.drop_duplicates(inplace=True)\n",
    "    return processed_df"
   ]
  },
  {
   "cell_type": "code",
   "execution_count": 34,
   "metadata": {},
   "outputs": [],
   "source": [
    "def clean_df(df, label):\n",
    "    # Remove columns with empty values\n",
    "    df.dropna(axis=1, how='all', inplace=True)\n",
    "\n",
    "    # Remove rows with NaN values\n",
    "    df.dropna(axis=0, how='any', inplace=True)\n",
    "\n",
    "    # Remove duplicate rows\n",
    "    df.drop_duplicates(inplace=True)\n",
    "\n",
    "    # Set 'category' column with the specified label\n",
    "    df['category'] = label\n",
    "\n",
    "    # Rename 'Content' column to lowercase 'content'\n",
    "    df.rename(columns={'Content': 'content',\n",
    "              'Category': 'category'}, inplace=True)\n",
    "\n",
    "    return df"
   ]
  },
  {
   "cell_type": "code",
   "execution_count": 39,
   "metadata": {},
   "outputs": [
    {
     "data": {
      "text/html": [
       "<div>\n",
       "<style scoped>\n",
       "    .dataframe tbody tr th:only-of-type {\n",
       "        vertical-align: middle;\n",
       "    }\n",
       "\n",
       "    .dataframe tbody tr th {\n",
       "        vertical-align: top;\n",
       "    }\n",
       "\n",
       "    .dataframe thead th {\n",
       "        text-align: right;\n",
       "    }\n",
       "</style>\n",
       "<table border=\"1\" class=\"dataframe\">\n",
       "  <thead>\n",
       "    <tr style=\"text-align: right;\">\n",
       "      <th></th>\n",
       "      <th>content</th>\n",
       "      <th>category</th>\n",
       "      <th>transformed_content</th>\n",
       "    </tr>\n",
       "  </thead>\n",
       "  <tbody>\n",
       "    <tr>\n",
       "      <th>0</th>\n",
       "      <td>List of Documents required as ID and Address p...</td>\n",
       "      <td>Govt Documents</td>\n",
       "      <td>NaN</td>\n",
       "    </tr>\n",
       "    <tr>\n",
       "      <th>1</th>\n",
       "      <td>List of Documents required as ID and Address p...</td>\n",
       "      <td>Govt Documents</td>\n",
       "      <td>NaN</td>\n",
       "    </tr>\n",
       "    <tr>\n",
       "      <th>2</th>\n",
       "      <td>Documents List of documents accepted\\r\\nProof ...</td>\n",
       "      <td>Govt Documents</td>\n",
       "      <td>NaN</td>\n",
       "    </tr>\n",
       "    <tr>\n",
       "      <th>3</th>\n",
       "      <td>NaN</td>\n",
       "      <td>Govt Documents</td>\n",
       "      <td>list document requir id address proof proof id...</td>\n",
       "    </tr>\n",
       "    <tr>\n",
       "      <th>4</th>\n",
       "      <td>NaN</td>\n",
       "      <td>Govt Documents</td>\n",
       "      <td>document list document accept proof ident one ...</td>\n",
       "    </tr>\n",
       "  </tbody>\n",
       "</table>\n",
       "</div>"
      ],
      "text/plain": [
       "                                             content        category  \\\n",
       "0  List of Documents required as ID and Address p...  Govt Documents   \n",
       "1  List of Documents required as ID and Address p...  Govt Documents   \n",
       "2  Documents List of documents accepted\\r\\nProof ...  Govt Documents   \n",
       "3                                                NaN  Govt Documents   \n",
       "4                                                NaN  Govt Documents   \n",
       "\n",
       "                                 transformed_content  \n",
       "0                                                NaN  \n",
       "1                                                NaN  \n",
       "2                                                NaN  \n",
       "3  list document requir id address proof proof id...  \n",
       "4  document list document accept proof ident one ...  "
      ]
     },
     "execution_count": 39,
     "metadata": {},
     "output_type": "execute_result"
    }
   ],
   "source": [
    "df = pd.read_csv('./db/train/'+filenames_array[4])\n",
    "new_df = clean_df(df, file_names_without_extension[4] )\n",
    "new_df = preprocesse_df(new_df)\n",
    "new_df =pd.concat([df, new_df], ignore_index=True)\n",
    "new_df"
   ]
  },
  {
   "cell_type": "code",
   "execution_count": 40,
   "metadata": {},
   "outputs": [
    {
     "name": "stdout",
     "output_type": "stream",
     "text": [
      "0 Business Documents started\n",
      "0 Business Documents successful ------------------------------\n",
      "1 Creative Documents started\n",
      "1 Creative Documents successful ------------------------------\n",
      "2 Educational Documents started\n",
      "2 Educational Documents successful ------------------------------\n"
     ]
    }
   ],
   "source": [
    "import pandas as pd\n",
    "\n",
    "full_df = pd.DataFrame()  # Create an empty DataFrame\n",
    "\n",
    "# n = len(filenames_array)\n",
    "n = 3\n",
    "for i in range(0, n):\n",
    "    print(i, file_names_without_extension[i], 'started')\n",
    "    df = pd.read_csv('./db/train/' + filenames_array[i])\n",
    "    new_df = clean_df(df, file_names_without_extension[i])\n",
    "    new_df = preprocesse_df(new_df)\n",
    "\n",
    "    # Assign the result back to full_df\n",
    "    full_df = pd.concat([full_df, new_df], ignore_index=True)\n",
    "    print(i, file_names_without_extension[i],\n",
    "          'successful ------------------------------')"
   ]
  },
  {
   "cell_type": "code",
   "execution_count": 45,
   "metadata": {},
   "outputs": [
    {
     "name": "stdout",
     "output_type": "stream",
     "text": [
      "['Business Documents' 'Creative Documents' 'Educational Documents']\n"
     ]
    }
   ],
   "source": [
    "unique_categories = full_df['category'].unique()\n",
    "print(unique_categories)"
   ]
  },
  {
   "cell_type": "code",
   "execution_count": 46,
   "metadata": {},
   "outputs": [
    {
     "name": "stdout",
     "output_type": "stream",
     "text": [
      "category\n",
      "Creative Documents       551\n",
      "Business Documents       399\n",
      "Educational Documents     13\n",
      "Name: count, dtype: int64\n"
     ]
    }
   ],
   "source": [
    "category_counts = full_df['category'].value_counts()\n",
    "print(category_counts)"
   ]
  },
  {
   "cell_type": "code",
   "execution_count": 47,
   "metadata": {},
   "outputs": [],
   "source": [
    "full_df.to_csv('full_df.csv', index=False)"
   ]
  }
 ],
 "metadata": {
  "kernelspec": {
   "display_name": "Python 3",
   "language": "python",
   "name": "python3"
  },
  "language_info": {
   "codemirror_mode": {
    "name": "ipython",
    "version": 3
   },
   "file_extension": ".py",
   "mimetype": "text/x-python",
   "name": "python",
   "nbconvert_exporter": "python",
   "pygments_lexer": "ipython3",
   "version": "3.10.6"
  }
 },
 "nbformat": 4,
 "nbformat_minor": 2
}
